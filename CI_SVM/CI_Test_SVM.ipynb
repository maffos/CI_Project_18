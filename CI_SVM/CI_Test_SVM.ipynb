{
 "cells": [
  {
   "cell_type": "code",
   "execution_count": 84,
   "metadata": {},
   "outputs": [],
   "source": [
    "'''import libraries'''\n",
    "import numpy as np\n",
    "import scipy as sc\n",
    "from sklearn import svm\n",
    "from sklearn.model_selection import GridSearchCV"
   ]
  },
  {
   "cell_type": "code",
   "execution_count": 134,
   "metadata": {},
   "outputs": [],
   "source": [
    "'''tetsfile'''\n",
    "file = \"project_training.txt\"\n",
    "\n",
    "'''encoding for amino-acids'''\n",
    "aa_to_binary_dict = {\n",
    "    \"A\":0b00000,\n",
    "    \"R\":0b00001,\n",
    "    \"N\":0b00010,\n",
    "    \"D\":0b00100,\n",
    "    \"C\":0b01000,\n",
    "    \"Q\":0b10000,\n",
    "    \"E\":0b00011,\n",
    "    \"G\":0b00101,\n",
    "    \"H\":0b01001,\n",
    "    \"I\":0b10001,\n",
    "    \"L\":0b00111,\n",
    "    \"K\":0b01011,\n",
    "    \"M\":0b10011,\n",
    "    \"F\":0b10101,\n",
    "    \"P\":0b11001,\n",
    "    \"S\":0b11010,\n",
    "    \"T\":0b11100,\n",
    "    \"W\":0b01111,\n",
    "    \"Y\":0b10111,\n",
    "    \"V\":0b11011\n",
    "}"
   ]
  },
  {
   "cell_type": "code",
   "execution_count": 170,
   "metadata": {},
   "outputs": [],
   "source": [
    "def train_svm( file ):\n",
    "    new_svm = svm.SVC()\n",
    "    '''fit parameters for gridsearch'''\n",
    "    cv_params = { 'kernel':['rbf'], 'C':[0.1,1,2] }\n",
    "    folds = 10\n",
    "    cv = GridSearchCV( new_svm, cv_params, cv = folds )\n",
    "    \n",
    "    data_set = parse( file )\n",
    "    \n",
    "    proteins = data_set[0]\n",
    "    labels = data_set[1]\n",
    "    \n",
    "    best_params = cv.fit( proteins, labels ).best_params_\n",
    "    best_svm = svm.SVC( C = best_params['C'], kernel = best_params['kernel'] )\n",
    "    \n",
    "    return best_svm.fit( proteins, labels )"
   ]
  },
  {
   "cell_type": "code",
   "execution_count": 161,
   "metadata": {
    "collapsed": true
   },
   "outputs": [],
   "source": [
    "def parse( file ):\n",
    "    raw_data = open( file, \"r\" ).readlines()[1:]\n",
    "    \n",
    "    proteins = []\n",
    "    proteins_binary = []\n",
    "    labels = []\n",
    "    \n",
    "    for line in raw_data:\n",
    "        proteins.append( line.split()[0] )\n",
    "        labels.append( line.split()[2] )\n",
    "        \n",
    "    for protein in proteins:\n",
    "        proteins_binary.append( encode( protein ) )\n",
    "        \n",
    "    return [ proteins_binary, labels ]"
   ]
  },
  {
   "cell_type": "code",
   "execution_count": 162,
   "metadata": {
    "collapsed": true
   },
   "outputs": [],
   "source": [
    "def encode( protein_aa ):\n",
    "    single_aas = list( protein_aa )\n",
    "    \n",
    "    protein_binary = []\n",
    "    \n",
    "    for aa in single_aas:\n",
    "        protein_binary.append( aa_to_binary( aa ) )\n",
    "        \n",
    "    return protein_binary"
   ]
  },
  {
   "cell_type": "code",
   "execution_count": 163,
   "metadata": {
    "collapsed": true
   },
   "outputs": [],
   "source": [
    "def aa_to_binary( aa ):\n",
    "    return aa_to_binary_dict[aa]"
   ]
  },
  {
   "cell_type": "code",
   "execution_count": 171,
   "metadata": {},
   "outputs": [],
   "source": [
    "#TEST_SPACE#\n",
    "\n",
    "#test_svm = train_svm( file )\n"
   ]
  }
 ],
 "metadata": {
  "anaconda-cloud": {},
  "kernelspec": {
   "display_name": "Python 3",
   "language": "python",
   "name": "python3"
  },
  "language_info": {
   "codemirror_mode": {
    "name": "ipython",
    "version": 3
   },
   "file_extension": ".py",
   "mimetype": "text/x-python",
   "name": "python",
   "nbconvert_exporter": "python",
   "pygments_lexer": "ipython3",
   "version": "3.6.2"
  }
 },
 "nbformat": 4,
 "nbformat_minor": 2
}
